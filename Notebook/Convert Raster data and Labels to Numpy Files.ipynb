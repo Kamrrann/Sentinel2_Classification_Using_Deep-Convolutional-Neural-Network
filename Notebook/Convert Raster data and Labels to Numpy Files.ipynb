{
 "cells": [
  {
   "cell_type": "markdown",
   "metadata": {},
   "source": [
    "# Converting Raster data and Labels to Numpy Files"
   ]
  },
  {
   "cell_type": "markdown",
   "metadata": {},
   "source": [
    "This notebook provides a comprehensive guide to efficiently convert raster images and their corresponding labels into numpy files. It demonstrates step-by-step procedures for preprocessing raster images from a directory using Python and libraries such as rasterio and numpy. The notebook then covers converting the processed images into numpy arrays and saving them as numpy files. "
   ]
  },
  {
   "cell_type": "code",
   "execution_count": null,
   "metadata": {},
   "outputs": [],
   "source": [
    "# import libraries\n",
    "import rasterio\n",
    "import glob\n",
    "import os\n",
    "import numpy as np\n",
    "from rasterio.plot import reshape_as_raster, reshape_as_image"
   ]
  },
  {
   "cell_type": "markdown",
   "metadata": {},
   "source": [
    "Now, we will compile datasets comprising raster images categorized into distinct land cover classes, each stored in separate folders. The dataset comprises images categorized into five classes: barrenland, builtup, fallowland, vegetation, and wetland. Utilizing Python alongside essential libraries such as NumPy and rasterio, the notebook loads images from their respective folders, extracts the raster data, and reshapes them into standard image formats. Concurrently, class labels ranging from 0 to 4 are assigned to each image, aligning with the corresponding land cover class. These images and their associated labels are systematically appended to two lists, forming the dataset and labels list, respectively."
   ]
  },
  {
   "cell_type": "code",
   "execution_count": 1,
   "metadata": {},
   "outputs": [],
   "source": [
    "# Compiling Categorized Raster Image Datasets\n",
    "\n",
    "dataset=[]\n",
    "labels=[]\n",
    "path_barrenland = \"D:\\\\LandCoverdata\\\\4bands_Data\\\\5_5patches\\\\barrenland/*.*\"\n",
    "for i,file in enumerate(glob.glob(path_barrenland)):\n",
    "    imag_r =np.array(rasterio.open(file).read())\n",
    "    reshape_img=reshape_as_image(imag_r)\n",
    "    dataset.append(reshape_img)\n",
    "    labels.append(0)\n",
    "    \n",
    "\n",
    "path_builtup = \"D\\\\LandCoverdata\\\\4bands_Data\\\\5_5patches\\\\builtup/*.*\"\n",
    "for j,file in enumerate(glob.glob(path_builtup)):\n",
    "    imag_r =np.array(rasterio.open(file).read())\n",
    "    reshape_img=reshape_as_image(imag_r)\n",
    "    dataset.append(reshape_img)\n",
    "    labels.append(1)\n",
    "\n",
    "path_fallowland = \"D\\\\LandCoverdata\\\\4bands_Data\\\\5_5patches\\\\fallowland/*.*\"\n",
    "for k,file in enumerate(glob.glob(path_fallowland)):\n",
    "    imag_r =np.array(rasterio.open(file).read())\n",
    "    reshape_img=reshape_as_image(imag_r)\n",
    "    dataset.append(reshape_img)\n",
    "    labels.append(2)\n",
    "path_vegetation = \"D\\\\LandCoverdata\\\\4bands_Data\\\\5_5patches\\\\vegetation/*.*\"\n",
    "for l,file in enumerate(glob.glob(path_vegetation)):\n",
    "    imag_r =np.array(rasterio.open(file).read())\n",
    "    reshape_img=reshape_as_image(imag_r)\n",
    "    dataset.append(reshape_img)\n",
    "    labels.append(3)\n",
    "path_wetland = \"D\\\\LandCoverdata\\\\4bands_Data\\\\5_5patches\\\\wetland/*.*\"\n",
    "for m,file in enumerate(glob.glob(path_wetland)):\n",
    "    imag_r =np.array(rasterio.open(file).read())\n",
    "    reshape_img=reshape_as_image(imag_r)\n",
    "    dataset.append(reshape_img)\n",
    "    labels.append(4)"
   ]
  },
  {
   "cell_type": "code",
   "execution_count": 2,
   "metadata": {},
   "outputs": [],
   "source": [
    "# Converting list of images (dataset) into a NumPy array (X)\n",
    "\n",
    "X=np.array(dataset)"
   ]
  },
  {
   "cell_type": "code",
   "execution_count": 5,
   "metadata": {},
   "outputs": [],
   "source": [
    "# Converting list of labels into a NumPy array (y)\n",
    "\n",
    "y=np.array(labels)"
   ]
  },
  {
   "cell_type": "markdown",
   "metadata": {},
   "source": [
    "Now saves image data (X) and corresponding labels (y) as binary files ('features.npy' and 'labels.npy') to specific directories."
   ]
  },
  {
   "cell_type": "code",
   "execution_count": null,
   "metadata": {},
   "outputs": [],
   "source": [
    "# save the image data (X) and corresponding labels (y) as binary files ('features.npy' and 'labels.npy') to specific directories.\n",
    "\n",
    "features=np.save('D:\\\\LandCoverdata_Numpyfiles\\\\4bands_data\\\\features.npy',X)\n",
    "labels=np.save('D:\\\\LandCoverdata_Numpyfiles\\\\4bands_data\\\\labels.npy',y)"
   ]
  }
 ],
 "metadata": {
  "kernelspec": {
   "display_name": "Python 3",
   "language": "python",
   "name": "python3"
  },
  "language_info": {
   "codemirror_mode": {
    "name": "ipython",
    "version": 3
   },
   "file_extension": ".py",
   "mimetype": "text/x-python",
   "name": "python",
   "nbconvert_exporter": "python",
   "pygments_lexer": "ipython3",
   "version": "3.7.3"
  }
 },
 "nbformat": 4,
 "nbformat_minor": 4
}
